{
 "cells": [
  {
   "cell_type": "code",
   "execution_count": 4,
   "metadata": {},
   "outputs": [
    {
     "ename": "ImportError",
     "evalue": "cannot import name 'geoapify_key' from 'api_keys' (/Users/matthewjackson/Library/CloudStorage/OneDrive-Personal/Data_Bootcamp_OneDrive/python-api-challenge/api_keys.py)",
     "output_type": "error",
     "traceback": [
      "\u001b[0;31m---------------------------------------------------------------------------\u001b[0m",
      "\u001b[0;31mImportError\u001b[0m                               Traceback (most recent call last)",
      "\u001b[1;32m/Users/matthewjackson/Library/CloudStorage/OneDrive-Personal/Data_Bootcamp_OneDrive/python-api-challenge/VacationPy.ipynb Cell 1\u001b[0m line \u001b[0;36m7\n\u001b[1;32m      <a href='vscode-notebook-cell:/Users/matthewjackson/Library/CloudStorage/OneDrive-Personal/Data_Bootcamp_OneDrive/python-api-challenge/VacationPy.ipynb#W0sZmlsZQ%3D%3D?line=3'>4</a>\u001b[0m \u001b[39mimport\u001b[39;00m \u001b[39mrequests\u001b[39;00m\n\u001b[1;32m      <a href='vscode-notebook-cell:/Users/matthewjackson/Library/CloudStorage/OneDrive-Personal/Data_Bootcamp_OneDrive/python-api-challenge/VacationPy.ipynb#W0sZmlsZQ%3D%3D?line=5'>6</a>\u001b[0m \u001b[39m# Import API key\u001b[39;00m\n\u001b[0;32m----> <a href='vscode-notebook-cell:/Users/matthewjackson/Library/CloudStorage/OneDrive-Personal/Data_Bootcamp_OneDrive/python-api-challenge/VacationPy.ipynb#W0sZmlsZQ%3D%3D?line=6'>7</a>\u001b[0m \u001b[39mfrom\u001b[39;00m \u001b[39mapi_keys\u001b[39;00m \u001b[39mimport\u001b[39;00m geoapify_key\n",
      "\u001b[0;31mImportError\u001b[0m: cannot import name 'geoapify_key' from 'api_keys' (/Users/matthewjackson/Library/CloudStorage/OneDrive-Personal/Data_Bootcamp_OneDrive/python-api-challenge/api_keys.py)"
     ]
    }
   ],
   "source": [
    "# Dependencies and Setup\n",
    "import hvplot.pandas\n",
    "import pandas as pd\n",
    "import requests\n",
    "\n",
    "# Import API key\n",
    "from api_keys import geoapify_key"
   ]
  },
  {
   "cell_type": "code",
   "execution_count": null,
   "metadata": {},
   "outputs": [],
   "source": []
  }
 ],
 "metadata": {
  "kernelspec": {
   "display_name": "base",
   "language": "python",
   "name": "python3"
  },
  "language_info": {
   "codemirror_mode": {
    "name": "ipython",
    "version": 3
   },
   "file_extension": ".py",
   "mimetype": "text/x-python",
   "name": "python",
   "nbconvert_exporter": "python",
   "pygments_lexer": "ipython3",
   "version": "3.11.4"
  }
 },
 "nbformat": 4,
 "nbformat_minor": 2
}
